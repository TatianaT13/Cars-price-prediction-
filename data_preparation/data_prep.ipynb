{
 "cells": [
  {
   "cell_type": "code",
   "execution_count": 7,
   "metadata": {},
   "outputs": [],
   "source": [
    "import pandas as pd\n",
    "from sklearn.svm import SVR\n",
    "from sklearn.preprocessing import StandardScaler\n",
    "\n",
    "# dataset = pd.read_csv('./data/dataset_clean.csv', index_col=0)\n"
   ]
  },
  {
   "cell_type": "code",
   "execution_count": 8,
   "metadata": {},
   "outputs": [],
   "source": [
    "# dataset"
   ]
  },
  {
   "cell_type": "code",
   "execution_count": 9,
   "metadata": {},
   "outputs": [],
   "source": [
    "data = pd.read_csv('C:\\\\Users\\\\Utilisateur\\\\Desktop\\\\project_dev\\\\price_project\\\\appli_copy\\\\data\\\\train.csv')"
   ]
  },
  {
   "cell_type": "code",
   "execution_count": 10,
   "metadata": {},
   "outputs": [],
   "source": [
    "Correct_Mileage= []\n",
    "for i in data.Mileage:\n",
    "    if str(i).endswith('km/kg'):\n",
    "        i = i[:-6]\n",
    "        i = float(i)*1.40\n",
    "        Correct_Mileage.append(float(i))\n",
    "    elif str(i).endswith('kmpl'):\n",
    "        i = i[:-6]\n",
    "        #print(i)\n",
    "        Correct_Mileage.append(float(i))\n",
    "    else :\n",
    "        Correct_Mileage.append(float(i))\n",
    "\n",
    "\n",
    "data['Mileage']=Correct_Mileage\n",
    "\n",
    "# dataset_brand = pd.read_csv('C:\\\\Users\\\\Utilisateur\\\\Desktop\\\\project_dev\\\\price_project\\\\brand.csv')['Brand']\n",
    "\n",
    "# names = data['Name']\n",
    "# final_brands = []\n",
    "# final_names = []\n",
    "\n",
    "# for name in names :\n",
    "#     find = False\n",
    "#     name = name\n",
    "#     for brand in dataset_brand :        \n",
    "#         if name.find(brand) != -1 :\n",
    "#             final_brands.append(brand)\n",
    "#             try :\n",
    "#                 final_names.append(name.split(brand + ' ')[1])\n",
    "#             except :\n",
    "#                 final_names.append(name.split(brand + ' ')[0])\n",
    "#             find = True\n",
    "#     if find == False :\n",
    "#         final_brands.append(name.split(' ')[0])\n",
    "#         final_names.append(name.split(' ')[1])\n",
    "        \n",
    "# print(final_names)\n",
    "        \n",
    "# data['Brand'] = final_brands\n",
    "\n",
    "# data = data.drop(['Name', 'Location'], axis=1)\n",
    "\n",
    "\n",
    "data['Engine'] = data['Engine'].str.strip(' CC')\n",
    "data['Power'] = data['Power'].str.strip(' bph')\n",
    "data['Power'] = data['Power'].str.replace('null', '0')\n",
    "data['New_Price'] = data['New_Price'].str.strip(' Lakh')\n",
    "data['New_Price'] = data['New_Price'].str.strip(' Cr')\n",
    "data['New_Price'] = data['New_Price'].astype(float).fillna(0)\n",
    "data = data.fillna(0)"
   ]
  },
  {
   "cell_type": "code",
   "execution_count": 11,
   "metadata": {},
   "outputs": [
    {
     "name": "stdout",
     "output_type": "stream",
     "text": [
      "0\n"
     ]
    }
   ],
   "source": [
    "print('Land Rover Range Rover 2.2L Pure'.find('Land Rover'))"
   ]
  },
  {
   "cell_type": "code",
   "execution_count": 12,
   "metadata": {},
   "outputs": [],
   "source": [
    "data['Price']       = round(((data['Price'] * 1219.74)), 2)\n",
    "data['New_Price']   = round(((data['New_Price'].astype(float) * 1219.74)), 2)\n",
    "\n",
    "\n",
    "data.to_csv('C:\\\\Users\\\\Utilisateur\\\\Desktop\\\\project_dev\\\\price_project\\\\api\\\\data\\\\dataset.csv', index=False)\n"
   ]
  },
  {
   "cell_type": "code",
   "execution_count": 13,
   "metadata": {},
   "outputs": [],
   "source": [
    "from sklearn.pipeline import Pipeline\n",
    "from sklearn.impute import SimpleImputer\n",
    "from sklearn.preprocessing import OneHotEncoder, OrdinalEncoder, StandardScaler\n",
    "\n",
    "string_features         = ['Name', 'Location']\n",
    "categorical_features    = ['Fuel_Type', 'Transmission', 'Owner_Type']\n",
    "numeric_features        = ['Year', 'Kilometers_Driven', 'Mileage', 'Engine', 'Power', 'Seats', 'New_Price']\n",
    "\n",
    "string_transformer = Pipeline(steps=[\n",
    "    ('label', OrdinalEncoder()),\n",
    "    ('scaler', StandardScaler())\n",
    "])\n",
    "\n",
    "numeric_transformer = Pipeline(steps=[\n",
    "    ('imputer', SimpleImputer(strategy='median')),\n",
    "    ('scaler', StandardScaler())\n",
    "])\n",
    "\n",
    "categorical_transformer = Pipeline(steps=[\n",
    "    ('imputer', SimpleImputer(strategy='most_frequent')),\n",
    "    ('onehot', OneHotEncoder(handle_unknown='ignore', sparse=False))\n",
    "])"
   ]
  },
  {
   "cell_type": "code",
   "execution_count": 14,
   "metadata": {},
   "outputs": [],
   "source": [
    "from sklearn.compose import ColumnTransformer\n",
    "preprocessor = ColumnTransformer(\n",
    "    transformers=[\n",
    "        ('str', string_transformer, string_features),\n",
    "        ('num', numeric_transformer, numeric_features),\n",
    "        ('cat', categorical_transformer, categorical_features)\n",
    "    ])\n"
   ]
  },
  {
   "cell_type": "code",
   "execution_count": 15,
   "metadata": {},
   "outputs": [
    {
     "data": {
      "text/html": [
       "<style>#sk-container-id-1 {color: black;background-color: white;}#sk-container-id-1 pre{padding: 0;}#sk-container-id-1 div.sk-toggleable {background-color: white;}#sk-container-id-1 label.sk-toggleable__label {cursor: pointer;display: block;width: 100%;margin-bottom: 0;padding: 0.3em;box-sizing: border-box;text-align: center;}#sk-container-id-1 label.sk-toggleable__label-arrow:before {content: \"▸\";float: left;margin-right: 0.25em;color: #696969;}#sk-container-id-1 label.sk-toggleable__label-arrow:hover:before {color: black;}#sk-container-id-1 div.sk-estimator:hover label.sk-toggleable__label-arrow:before {color: black;}#sk-container-id-1 div.sk-toggleable__content {max-height: 0;max-width: 0;overflow: hidden;text-align: left;background-color: #f0f8ff;}#sk-container-id-1 div.sk-toggleable__content pre {margin: 0.2em;color: black;border-radius: 0.25em;background-color: #f0f8ff;}#sk-container-id-1 input.sk-toggleable__control:checked~div.sk-toggleable__content {max-height: 200px;max-width: 100%;overflow: auto;}#sk-container-id-1 input.sk-toggleable__control:checked~label.sk-toggleable__label-arrow:before {content: \"▾\";}#sk-container-id-1 div.sk-estimator input.sk-toggleable__control:checked~label.sk-toggleable__label {background-color: #d4ebff;}#sk-container-id-1 div.sk-label input.sk-toggleable__control:checked~label.sk-toggleable__label {background-color: #d4ebff;}#sk-container-id-1 input.sk-hidden--visually {border: 0;clip: rect(1px 1px 1px 1px);clip: rect(1px, 1px, 1px, 1px);height: 1px;margin: -1px;overflow: hidden;padding: 0;position: absolute;width: 1px;}#sk-container-id-1 div.sk-estimator {font-family: monospace;background-color: #f0f8ff;border: 1px dotted black;border-radius: 0.25em;box-sizing: border-box;margin-bottom: 0.5em;}#sk-container-id-1 div.sk-estimator:hover {background-color: #d4ebff;}#sk-container-id-1 div.sk-parallel-item::after {content: \"\";width: 100%;border-bottom: 1px solid gray;flex-grow: 1;}#sk-container-id-1 div.sk-label:hover label.sk-toggleable__label {background-color: #d4ebff;}#sk-container-id-1 div.sk-serial::before {content: \"\";position: absolute;border-left: 1px solid gray;box-sizing: border-box;top: 0;bottom: 0;left: 50%;z-index: 0;}#sk-container-id-1 div.sk-serial {display: flex;flex-direction: column;align-items: center;background-color: white;padding-right: 0.2em;padding-left: 0.2em;position: relative;}#sk-container-id-1 div.sk-item {position: relative;z-index: 1;}#sk-container-id-1 div.sk-parallel {display: flex;align-items: stretch;justify-content: center;background-color: white;position: relative;}#sk-container-id-1 div.sk-item::before, #sk-container-id-1 div.sk-parallel-item::before {content: \"\";position: absolute;border-left: 1px solid gray;box-sizing: border-box;top: 0;bottom: 0;left: 50%;z-index: -1;}#sk-container-id-1 div.sk-parallel-item {display: flex;flex-direction: column;z-index: 1;position: relative;background-color: white;}#sk-container-id-1 div.sk-parallel-item:first-child::after {align-self: flex-end;width: 50%;}#sk-container-id-1 div.sk-parallel-item:last-child::after {align-self: flex-start;width: 50%;}#sk-container-id-1 div.sk-parallel-item:only-child::after {width: 0;}#sk-container-id-1 div.sk-dashed-wrapped {border: 1px dashed gray;margin: 0 0.4em 0.5em 0.4em;box-sizing: border-box;padding-bottom: 0.4em;background-color: white;}#sk-container-id-1 div.sk-label label {font-family: monospace;font-weight: bold;display: inline-block;line-height: 1.2em;}#sk-container-id-1 div.sk-label-container {text-align: center;}#sk-container-id-1 div.sk-container {/* jupyter's `normalize.less` sets `[hidden] { display: none; }` but bootstrap.min.css set `[hidden] { display: none !important; }` so we also need the `!important` here to be able to override the default hidden behavior on the sphinx rendered scikit-learn.org. See: https://github.com/scikit-learn/scikit-learn/issues/21755 */display: inline-block !important;position: relative;}#sk-container-id-1 div.sk-text-repr-fallback {display: none;}</style><div id=\"sk-container-id-1\" class=\"sk-top-container\"><div class=\"sk-text-repr-fallback\"><pre>ColumnTransformer(transformers=[(&#x27;str&#x27;,\n",
       "                                 Pipeline(steps=[(&#x27;label&#x27;, OrdinalEncoder()),\n",
       "                                                 (&#x27;scaler&#x27;, StandardScaler())]),\n",
       "                                 [&#x27;Name&#x27;, &#x27;Location&#x27;]),\n",
       "                                (&#x27;num&#x27;,\n",
       "                                 Pipeline(steps=[(&#x27;imputer&#x27;,\n",
       "                                                  SimpleImputer(strategy=&#x27;median&#x27;)),\n",
       "                                                 (&#x27;scaler&#x27;, StandardScaler())]),\n",
       "                                 [&#x27;Year&#x27;, &#x27;Kilometers_Driven&#x27;, &#x27;Mileage&#x27;,\n",
       "                                  &#x27;Engine&#x27;, &#x27;Power&#x27;, &#x27;Seats&#x27;, &#x27;New_Price&#x27;]),\n",
       "                                (&#x27;cat&#x27;,\n",
       "                                 Pipeline(steps=[(&#x27;imputer&#x27;,\n",
       "                                                  SimpleImputer(strategy=&#x27;most_frequent&#x27;)),\n",
       "                                                 (&#x27;onehot&#x27;,\n",
       "                                                  OneHotEncoder(handle_unknown=&#x27;ignore&#x27;,\n",
       "                                                                sparse=False))]),\n",
       "                                 [&#x27;Fuel_Type&#x27;, &#x27;Transmission&#x27;, &#x27;Owner_Type&#x27;])])</pre><b>In a Jupyter environment, please rerun this cell to show the HTML representation or trust the notebook. <br />On GitHub, the HTML representation is unable to render, please try loading this page with nbviewer.org.</b></div><div class=\"sk-container\" hidden><div class=\"sk-item sk-dashed-wrapped\"><div class=\"sk-label-container\"><div class=\"sk-label sk-toggleable\"><input class=\"sk-toggleable__control sk-hidden--visually\" id=\"sk-estimator-id-1\" type=\"checkbox\" ><label for=\"sk-estimator-id-1\" class=\"sk-toggleable__label sk-toggleable__label-arrow\">ColumnTransformer</label><div class=\"sk-toggleable__content\"><pre>ColumnTransformer(transformers=[(&#x27;str&#x27;,\n",
       "                                 Pipeline(steps=[(&#x27;label&#x27;, OrdinalEncoder()),\n",
       "                                                 (&#x27;scaler&#x27;, StandardScaler())]),\n",
       "                                 [&#x27;Name&#x27;, &#x27;Location&#x27;]),\n",
       "                                (&#x27;num&#x27;,\n",
       "                                 Pipeline(steps=[(&#x27;imputer&#x27;,\n",
       "                                                  SimpleImputer(strategy=&#x27;median&#x27;)),\n",
       "                                                 (&#x27;scaler&#x27;, StandardScaler())]),\n",
       "                                 [&#x27;Year&#x27;, &#x27;Kilometers_Driven&#x27;, &#x27;Mileage&#x27;,\n",
       "                                  &#x27;Engine&#x27;, &#x27;Power&#x27;, &#x27;Seats&#x27;, &#x27;New_Price&#x27;]),\n",
       "                                (&#x27;cat&#x27;,\n",
       "                                 Pipeline(steps=[(&#x27;imputer&#x27;,\n",
       "                                                  SimpleImputer(strategy=&#x27;most_frequent&#x27;)),\n",
       "                                                 (&#x27;onehot&#x27;,\n",
       "                                                  OneHotEncoder(handle_unknown=&#x27;ignore&#x27;,\n",
       "                                                                sparse=False))]),\n",
       "                                 [&#x27;Fuel_Type&#x27;, &#x27;Transmission&#x27;, &#x27;Owner_Type&#x27;])])</pre></div></div></div><div class=\"sk-parallel\"><div class=\"sk-parallel-item\"><div class=\"sk-item\"><div class=\"sk-label-container\"><div class=\"sk-label sk-toggleable\"><input class=\"sk-toggleable__control sk-hidden--visually\" id=\"sk-estimator-id-2\" type=\"checkbox\" ><label for=\"sk-estimator-id-2\" class=\"sk-toggleable__label sk-toggleable__label-arrow\">str</label><div class=\"sk-toggleable__content\"><pre>[&#x27;Name&#x27;, &#x27;Location&#x27;]</pre></div></div></div><div class=\"sk-serial\"><div class=\"sk-item\"><div class=\"sk-serial\"><div class=\"sk-item\"><div class=\"sk-estimator sk-toggleable\"><input class=\"sk-toggleable__control sk-hidden--visually\" id=\"sk-estimator-id-3\" type=\"checkbox\" ><label for=\"sk-estimator-id-3\" class=\"sk-toggleable__label sk-toggleable__label-arrow\">OrdinalEncoder</label><div class=\"sk-toggleable__content\"><pre>OrdinalEncoder()</pre></div></div></div><div class=\"sk-item\"><div class=\"sk-estimator sk-toggleable\"><input class=\"sk-toggleable__control sk-hidden--visually\" id=\"sk-estimator-id-4\" type=\"checkbox\" ><label for=\"sk-estimator-id-4\" class=\"sk-toggleable__label sk-toggleable__label-arrow\">StandardScaler</label><div class=\"sk-toggleable__content\"><pre>StandardScaler()</pre></div></div></div></div></div></div></div></div><div class=\"sk-parallel-item\"><div class=\"sk-item\"><div class=\"sk-label-container\"><div class=\"sk-label sk-toggleable\"><input class=\"sk-toggleable__control sk-hidden--visually\" id=\"sk-estimator-id-5\" type=\"checkbox\" ><label for=\"sk-estimator-id-5\" class=\"sk-toggleable__label sk-toggleable__label-arrow\">num</label><div class=\"sk-toggleable__content\"><pre>[&#x27;Year&#x27;, &#x27;Kilometers_Driven&#x27;, &#x27;Mileage&#x27;, &#x27;Engine&#x27;, &#x27;Power&#x27;, &#x27;Seats&#x27;, &#x27;New_Price&#x27;]</pre></div></div></div><div class=\"sk-serial\"><div class=\"sk-item\"><div class=\"sk-serial\"><div class=\"sk-item\"><div class=\"sk-estimator sk-toggleable\"><input class=\"sk-toggleable__control sk-hidden--visually\" id=\"sk-estimator-id-6\" type=\"checkbox\" ><label for=\"sk-estimator-id-6\" class=\"sk-toggleable__label sk-toggleable__label-arrow\">SimpleImputer</label><div class=\"sk-toggleable__content\"><pre>SimpleImputer(strategy=&#x27;median&#x27;)</pre></div></div></div><div class=\"sk-item\"><div class=\"sk-estimator sk-toggleable\"><input class=\"sk-toggleable__control sk-hidden--visually\" id=\"sk-estimator-id-7\" type=\"checkbox\" ><label for=\"sk-estimator-id-7\" class=\"sk-toggleable__label sk-toggleable__label-arrow\">StandardScaler</label><div class=\"sk-toggleable__content\"><pre>StandardScaler()</pre></div></div></div></div></div></div></div></div><div class=\"sk-parallel-item\"><div class=\"sk-item\"><div class=\"sk-label-container\"><div class=\"sk-label sk-toggleable\"><input class=\"sk-toggleable__control sk-hidden--visually\" id=\"sk-estimator-id-8\" type=\"checkbox\" ><label for=\"sk-estimator-id-8\" class=\"sk-toggleable__label sk-toggleable__label-arrow\">cat</label><div class=\"sk-toggleable__content\"><pre>[&#x27;Fuel_Type&#x27;, &#x27;Transmission&#x27;, &#x27;Owner_Type&#x27;]</pre></div></div></div><div class=\"sk-serial\"><div class=\"sk-item\"><div class=\"sk-serial\"><div class=\"sk-item\"><div class=\"sk-estimator sk-toggleable\"><input class=\"sk-toggleable__control sk-hidden--visually\" id=\"sk-estimator-id-9\" type=\"checkbox\" ><label for=\"sk-estimator-id-9\" class=\"sk-toggleable__label sk-toggleable__label-arrow\">SimpleImputer</label><div class=\"sk-toggleable__content\"><pre>SimpleImputer(strategy=&#x27;most_frequent&#x27;)</pre></div></div></div><div class=\"sk-item\"><div class=\"sk-estimator sk-toggleable\"><input class=\"sk-toggleable__control sk-hidden--visually\" id=\"sk-estimator-id-10\" type=\"checkbox\" ><label for=\"sk-estimator-id-10\" class=\"sk-toggleable__label sk-toggleable__label-arrow\">OneHotEncoder</label><div class=\"sk-toggleable__content\"><pre>OneHotEncoder(handle_unknown=&#x27;ignore&#x27;, sparse=False)</pre></div></div></div></div></div></div></div></div></div></div></div></div>"
      ],
      "text/plain": [
       "ColumnTransformer(transformers=[('str',\n",
       "                                 Pipeline(steps=[('label', OrdinalEncoder()),\n",
       "                                                 ('scaler', StandardScaler())]),\n",
       "                                 ['Name', 'Location']),\n",
       "                                ('num',\n",
       "                                 Pipeline(steps=[('imputer',\n",
       "                                                  SimpleImputer(strategy='median')),\n",
       "                                                 ('scaler', StandardScaler())]),\n",
       "                                 ['Year', 'Kilometers_Driven', 'Mileage',\n",
       "                                  'Engine', 'Power', 'Seats', 'New_Price']),\n",
       "                                ('cat',\n",
       "                                 Pipeline(steps=[('imputer',\n",
       "                                                  SimpleImputer(strategy='most_frequent')),\n",
       "                                                 ('onehot',\n",
       "                                                  OneHotEncoder(handle_unknown='ignore',\n",
       "                                                                sparse=False))]),\n",
       "                                 ['Fuel_Type', 'Transmission', 'Owner_Type'])])"
      ]
     },
     "execution_count": 15,
     "metadata": {},
     "output_type": "execute_result"
    }
   ],
   "source": [
    "preprocessor"
   ]
  },
  {
   "cell_type": "code",
   "execution_count": 16,
   "metadata": {},
   "outputs": [],
   "source": [
    "y_data = data['Price']\n",
    "# features \n",
    "X_data = data.drop('Price',axis=1)"
   ]
  },
  {
   "cell_type": "code",
   "execution_count": 17,
   "metadata": {},
   "outputs": [
    {
     "name": "stderr",
     "output_type": "stream",
     "text": [
      "c:\\Users\\Utilisateur\\anaconda3\\lib\\site-packages\\sklearn\\preprocessing\\_encoders.py:828: FutureWarning: `sparse` was renamed to `sparse_output` in version 1.2 and will be removed in 1.4. `sparse_output` is ignored unless you leave `sparse` to its default value.\n",
      "  warnings.warn(\n",
      "c:\\Users\\Utilisateur\\anaconda3\\lib\\site-packages\\sklearn\\utils\\validation.py:1143: DataConversionWarning: A column-vector y was passed when a 1d array was expected. Please change the shape of y to (n_samples, ), for example using ravel().\n",
      "  y = column_or_1d(y, warn=True)\n"
     ]
    },
    {
     "name": "stdout",
     "output_type": "stream",
     "text": [
      "         0         1         2         3         4         5         6   \\\n",
      "0  0.536130  1.143658 -1.027139  0.145315  3.930940 -1.001928 -0.936570   \n",
      "1 -0.762552  1.481989  0.502161 -0.194369  0.329818 -0.048301  0.279486   \n",
      "2 -0.811630 -1.224657 -0.721279 -0.139581  0.003186 -0.673710 -0.390739   \n",
      "3  0.269976 -1.224657 -0.415419  0.309678  0.554378 -0.593697 -0.389666   \n",
      "4 -1.685597 -0.886327 -0.109559 -0.197985 -0.609250  0.582007  0.540427   \n",
      "\n",
      "         7         8    9    10   11   12   13   14   15   16   17   18   19  \n",
      "0 -0.263523 -0.272039  1.0  0.0  0.0  0.0  0.0  0.0  1.0  1.0  0.0  0.0  0.0  \n",
      "1 -0.263523 -0.272039  0.0  1.0  0.0  0.0  0.0  0.0  1.0  1.0  0.0  0.0  0.0  \n",
      "2 -0.263523  0.569922  0.0  0.0  0.0  0.0  1.0  0.0  1.0  1.0  0.0  0.0  0.0  \n",
      "3  1.915247 -0.272039  0.0  1.0  0.0  0.0  0.0  0.0  1.0  1.0  0.0  0.0  0.0  \n",
      "4 -0.263523 -0.272039  0.0  1.0  0.0  0.0  0.0  1.0  0.0  0.0  0.0  1.0  0.0  \n",
      "0.9018810821404337\n",
      "0.09811891785956622\n"
     ]
    }
   ],
   "source": [
    "svr_rbf_all = SVR(kernel='rbf', C=100, degree=2, gamma=0.01)\n",
    "\n",
    "\n",
    "sts = StandardScaler()\n",
    "y_data = sts.fit_transform(pd.DataFrame(y_data))\n",
    "\n",
    "\n",
    "# y_data = sts.inverse_transform(y_data)\n",
    "from sklearn.metrics import r2_score, mean_squared_error\n",
    "from sklearn.model_selection import train_test_split\n",
    "X_train, X_test, y_train, y_test = train_test_split(X_data, y_data, test_size = 0.2, random_state=42)\n",
    "\n",
    "X_data_all = preprocessor.fit_transform(X_data)\n",
    "\n",
    "print(pd.DataFrame(X_data_all).head())\n",
    "# pd.DataFrame(X_data_all, columns=X_data.columns).to_csv('X_data_all.csv', index=False)\n",
    "# print(X_data_all)\n",
    "svr_rbf_all.fit(X_data_all, y_data)\n",
    "# X_test = preprocessor.fit_transform(X_test)\n",
    "\n",
    "y_pred_all = svr_rbf_all.predict(X_data_all)\n",
    "\n",
    "print(r2_score(y_data, y_pred_all))\n",
    "\n",
    "print(mean_squared_error(y_data, y_pred_all))"
   ]
  },
  {
   "cell_type": "code",
   "execution_count": 18,
   "metadata": {},
   "outputs": [],
   "source": [
    "numeric_features_lite        = ['Year', 'Engine', 'Power', 'New_Price']\n",
    "\n",
    "numeric_transformer_lite = Pipeline(steps=[\n",
    "    ('imputer', SimpleImputer(strategy='median')),\n",
    "    ('scaler', StandardScaler())\n",
    "])\n",
    "\n",
    "\n",
    "from sklearn.compose import ColumnTransformer\n",
    "preprocessor_lite = ColumnTransformer(\n",
    "    transformers=[\n",
    "        ('num', numeric_transformer_lite, numeric_features_lite),\n",
    "    ])\n",
    "\n",
    "svr_rbf_lite = SVR(kernel='rbf', C=100, degree=2, gamma=0.01)\n",
    "\n",
    "X_data_lite = X_data.loc[:, numeric_features_lite]"
   ]
  },
  {
   "cell_type": "code",
   "execution_count": 19,
   "metadata": {},
   "outputs": [],
   "source": [
    "\n",
    "# print(preprocessor_lite.transform(pd.DataFrame([[2010, 998, 58.16, 0]], columns=numeric_features_lite)))\n",
    "\n",
    "\n",
    "\n",
    "# import pickle\n",
    "\n",
    "# with open('C:\\\\Users\\\\Utilisateur\\\\Desktop\\\\project_dev\\\\price_project\\\\api\\\\data\\\\all\\\\model.pkl', 'wb') as file :\n",
    "#     pickle.dump(svr_rbf_all, file)\n",
    "    \n",
    "# file.close()\n",
    "\n",
    "# with open('C:\\\\Users\\\\Utilisateur\\\\Desktop\\\\project_dev\\\\price_project\\\\api\\\\data\\\\all\\\\preprocessor.pkl', 'wb') as file :\n",
    "#     pickle.dump(preprocessor, file)\n",
    "    \n",
    "# file.close()"
   ]
  },
  {
   "cell_type": "code",
   "execution_count": 20,
   "metadata": {},
   "outputs": [
    {
     "name": "stderr",
     "output_type": "stream",
     "text": [
      "c:\\Users\\Utilisateur\\anaconda3\\lib\\site-packages\\sklearn\\utils\\validation.py:1143: DataConversionWarning: A column-vector y was passed when a 1d array was expected. Please change the shape of y to (n_samples, ), for example using ravel().\n",
      "  y = column_or_1d(y, warn=True)\n"
     ]
    },
    {
     "name": "stdout",
     "output_type": "stream",
     "text": [
      "0.8385958024030764\n",
      "0.16140419759692354\n"
     ]
    }
   ],
   "source": [
    "from sklearn.metrics import r2_score, mean_squared_error\n",
    "from sklearn.model_selection import train_test_split\n",
    "\n",
    "\n",
    "# X_train_lite, X_test_lite, y_train_lite, y_test_lite = train_test_split(X_data_lite, y_data, test_size = 0.2, random_state=42)\n",
    "\n",
    "X_data_lite = preprocessor_lite.fit_transform(X_data_lite)\n",
    "\n",
    "svr_rbf_lite.fit(X_data_lite, y_data)\n",
    "\n",
    "# X_train_lite = preprocessor_lite.fit_transform(X_train_lite)\n",
    "\n",
    "# svr_rbf_lite.fit(X_train_lite, y_train_lite)\n",
    "\n",
    "# X_test_lite = preprocessor_lite.transform(X_test_lite)\n",
    "\n",
    "y_pred_lite = svr_rbf_lite.predict(X_data_lite)\n",
    "\n",
    "print(r2_score(y_data, y_pred_lite))\n",
    "\n",
    "print(mean_squared_error(y_data, y_pred_lite))"
   ]
  },
  {
   "cell_type": "code",
   "execution_count": 21,
   "metadata": {},
   "outputs": [],
   "source": [
    "\n",
    "# import pickle\n",
    "\n",
    "# with open('C:\\\\Users\\\\Utilisateur\\\\Desktop\\\\project_dev\\\\price_project\\\\api\\\\data\\\\lite\\\\model.pkl', 'wb') as file :\n",
    "#     pickle.dump(svr_rbf_lite, file)\n",
    "    \n",
    "# file.close()\n",
    "\n",
    "# with open('C:\\\\Users\\\\Utilisateur\\\\Desktop\\\\project_dev\\\\price_project\\\\api\\\\data\\\\lite\\\\preprocessor.pkl', 'wb') as file :\n",
    "#     pickle.dump(preprocessor_lite, file)\n",
    "    \n",
    "# file.close()"
   ]
  },
  {
   "cell_type": "code",
   "execution_count": 22,
   "metadata": {},
   "outputs": [],
   "source": [
    "# svr_rbf.fit(X_data, y_data)"
   ]
  },
  {
   "cell_type": "code",
   "execution_count": 23,
   "metadata": {},
   "outputs": [],
   "source": [
    "# X_test = preprocessor.fit_transform(X_test)\n",
    "# y_pred = svr_rbf.predict(X_data)"
   ]
  },
  {
   "cell_type": "code",
   "execution_count": 24,
   "metadata": {},
   "outputs": [],
   "source": [
    "import pickle\n",
    "\n",
    "# with open('C:\\\\Users\\\\Utilisateur\\\\Desktop\\\\project_dev\\\\price_project\\\\api\\\\data\\\\model_final.pkl', 'wb') as file :\n",
    "#     pickle.dump(svr_rbf, file)\n",
    "    \n",
    "# file.close()\n",
    "\n",
    "# with open('C:\\\\Users\\\\Utilisateur\\\\Desktop\\\\project_dev\\\\price_project\\\\api\\\\data\\\\preprocessor.pkl', 'wb') as file :\n",
    "#     pickle.dump(preprocessor, file)\n",
    "    \n",
    "# file.close()"
   ]
  },
  {
   "cell_type": "code",
   "execution_count": 25,
   "metadata": {},
   "outputs": [],
   "source": [
    "# with open('C:\\\\Users\\\\Utilisateur\\\\Desktop\\\\project_dev\\\\price_project\\\\api\\\\data\\\\com\\\\target.pkl', 'wb') as file :\n",
    "#     pickle.dump(sts, file)\n",
    "    \n",
    "# file.close()"
   ]
  }
 ],
 "metadata": {
  "kernelspec": {
   "display_name": "base",
   "language": "python",
   "name": "python3"
  },
  "language_info": {
   "codemirror_mode": {
    "name": "ipython",
    "version": 3
   },
   "file_extension": ".py",
   "mimetype": "text/x-python",
   "name": "python",
   "nbconvert_exporter": "python",
   "pygments_lexer": "ipython3",
   "version": "3.9.12"
  },
  "orig_nbformat": 4,
  "vscode": {
   "interpreter": {
    "hash": "66168a667a11ac16aca0d0d9742c8419f93457ff66115bf85239ea370d417636"
   }
  }
 },
 "nbformat": 4,
 "nbformat_minor": 2
}
